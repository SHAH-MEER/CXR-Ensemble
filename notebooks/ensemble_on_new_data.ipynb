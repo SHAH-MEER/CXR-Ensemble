{
 "cells": [
  {
   "cell_type": "code",
   "execution_count": 9,
   "metadata": {
    "execution": {
     "iopub.execute_input": "2025-06-20T12:54:43.085039Z",
     "iopub.status.busy": "2025-06-20T12:54:43.084752Z",
     "iopub.status.idle": "2025-06-20T12:54:43.089608Z",
     "shell.execute_reply": "2025-06-20T12:54:43.088973Z",
     "shell.execute_reply.started": "2025-06-20T12:54:43.085003Z"
    },
    "trusted": true
   },
   "outputs": [],
   "source": [
    "# Import required libraries\n",
    "import os\n",
    "import numpy as np\n",
    "import pandas as pd\n",
    "import json\n",
    "import torch\n",
    "import torch.nn as nn\n",
    "from torch.utils.data import DataLoader\n",
    "from torchvision import datasets, transforms, models\n",
    "import os\n",
    "import matplotlib.pyplot as plt\n",
    "import seaborn as sns\n",
    "from sklearn.metrics import confusion_matrix, classification_report, roc_curve, roc_auc_score, precision_recall_curve, average_precision_score\n",
    "from sklearn.preprocessing import label_binarize\n",
    "import matplotlib.pyplot as plt\n",
    "import seaborn as sns\n",
    "from tqdm import tqdm"
   ]
  },
  {
   "cell_type": "code",
   "execution_count": 3,
   "metadata": {
    "execution": {
     "iopub.execute_input": "2025-06-20T12:51:26.828601Z",
     "iopub.status.busy": "2025-06-20T12:51:26.828304Z",
     "iopub.status.idle": "2025-06-20T12:51:26.918817Z",
     "shell.execute_reply": "2025-06-20T12:51:26.918101Z",
     "shell.execute_reply.started": "2025-06-20T12:51:26.828580Z"
    },
    "trusted": true
   },
   "outputs": [
    {
     "name": "stdout",
     "output_type": "stream",
     "text": [
      "Using cuda device.\n"
     ]
    }
   ],
   "source": [
    "if torch.cuda.is_available():\n",
    "    device = \"cuda\"\n",
    "else:\n",
    "    device = \"cpu\"\n",
    "\n",
    "print(f\"Using {device} device.\")"
   ]
  },
  {
   "cell_type": "code",
   "execution_count": 4,
   "metadata": {
    "execution": {
     "iopub.execute_input": "2025-06-20T12:51:36.486604Z",
     "iopub.status.busy": "2025-06-20T12:51:36.486343Z",
     "iopub.status.idle": "2025-06-20T12:51:40.026305Z",
     "shell.execute_reply": "2025-06-20T12:51:40.025540Z",
     "shell.execute_reply.started": "2025-06-20T12:51:36.486587Z"
    },
    "trusted": true
   },
   "outputs": [],
   "source": [
    "# Define test transforms (must match training)\n",
    "imagenet_mean = [0.485, 0.456, 0.406]\n",
    "imagenet_std = [0.229, 0.224, 0.225]\n",
    "\n",
    "test_transforms = transforms.Compose([\n",
    "    transforms.Resize((224, 224)),\n",
    "    transforms.ToTensor(),\n",
    "    transforms.Normalize(mean=imagenet_mean, std=imagenet_std)\n",
    "])\n",
    "\n",
    "# Path to test data (local only)\n",
    "test_data_path = '/kaggle/input/pneumonia-tb-dataset/Combined_Dataset_12856/Combined_Dataset_12856/Test'\n",
    "\n",
    "test_dataset = datasets.ImageFolder(test_data_path, transform=test_transforms)\n",
    "test_loader = DataLoader(test_dataset, batch_size=32, shuffle=False)"
   ]
  },
  {
   "cell_type": "code",
   "execution_count": 5,
   "metadata": {
    "execution": {
     "iopub.execute_input": "2025-06-20T12:52:10.813493Z",
     "iopub.status.busy": "2025-06-20T12:52:10.812950Z",
     "iopub.status.idle": "2025-06-20T12:52:10.823733Z",
     "shell.execute_reply": "2025-06-20T12:52:10.823020Z",
     "shell.execute_reply.started": "2025-06-20T12:52:10.813470Z"
    },
    "trusted": true
   },
   "outputs": [],
   "source": [
    "# Function to load a model and its weights\n",
    "def load_model(model_name, num_classes, weights_path, device='cuda'):\n",
    "    if model_name == 'densenet121':\n",
    "        model = models.densenet121(weights=None)\n",
    "        in_features = model.classifier.in_features\n",
    "        model.classifier = nn.Sequential(\n",
    "            nn.Linear(in_features, 512), nn.ReLU(), nn.Dropout(0.2),\n",
    "            nn.Linear(512, 128), nn.ReLU(), nn.Dropout(0.2),\n",
    "            nn.Linear(128, 32), nn.ReLU(), nn.Dropout(0.2),\n",
    "            nn.Linear(32, num_classes)\n",
    "        )\n",
    "    elif model_name == 'resnet50':\n",
    "        model = models.resnet50(weights=None)\n",
    "        in_features = model.fc.in_features\n",
    "        model.fc = nn.Sequential(\n",
    "            nn.Linear(in_features, 512), nn.ReLU(), nn.Dropout(0.2),\n",
    "            nn.Linear(512, 128), nn.ReLU(), nn.Dropout(0.2),\n",
    "            nn.Linear(128, 32), nn.ReLU(), nn.Dropout(0.2),\n",
    "            nn.Linear(32, num_classes)\n",
    "        )\n",
    "    elif model_name == 'resnet101':\n",
    "        model = models.resnet101(weights=None)\n",
    "        in_features = model.fc.in_features\n",
    "        model.fc = nn.Sequential(\n",
    "            nn.Linear(in_features, 512), nn.ReLU(), nn.Dropout(0.2),\n",
    "            nn.Linear(512, 128), nn.ReLU(), nn.Dropout(0.2),\n",
    "            nn.Linear(128, 32), nn.ReLU(), nn.Dropout(0.2),\n",
    "            nn.Linear(32, num_classes)\n",
    "        )\n",
    "    elif model_name == 'efficientnet_b0':\n",
    "        model = models.efficientnet_b0(weights=None)\n",
    "        in_features = model.classifier[1].in_features\n",
    "        model.classifier = nn.Sequential(\n",
    "            nn.Linear(in_features, 512), nn.ReLU(), nn.Dropout(0.2),\n",
    "            nn.Linear(512, 128), nn.ReLU(), nn.Dropout(0.2),\n",
    "            nn.Linear(128, 32), nn.ReLU(), nn.Dropout(0.2),\n",
    "            nn.Linear(32, num_classes)\n",
    "        )\n",
    "    elif model_name == 'efficientnet_b4':\n",
    "        model = models.efficientnet_b4(weights=None)\n",
    "        in_features = model.classifier[1].in_features\n",
    "        model.classifier = nn.Sequential(\n",
    "            nn.Linear(in_features, 512), nn.ReLU(), nn.Dropout(0.2),\n",
    "            nn.Linear(512, 128), nn.ReLU(), nn.Dropout(0.2),\n",
    "            nn.Linear(128, 32), nn.ReLU(), nn.Dropout(0.2),\n",
    "            nn.Linear(32, num_classes)\n",
    "        )\n",
    "    else:\n",
    "        raise ValueError(f\"Unknown model: {model_name}\")\n",
    "    model.load_state_dict(torch.load(weights_path, map_location=device))\n",
    "    model.to(device)\n",
    "    model.eval()\n",
    "    return model"
   ]
  },
  {
   "cell_type": "code",
   "execution_count": 6,
   "metadata": {
    "execution": {
     "iopub.execute_input": "2025-06-20T12:52:23.588495Z",
     "iopub.status.busy": "2025-06-20T12:52:23.588219Z",
     "iopub.status.idle": "2025-06-20T12:52:26.567935Z",
     "shell.execute_reply": "2025-06-20T12:52:26.567242Z",
     "shell.execute_reply.started": "2025-06-20T12:52:23.588475Z"
    },
    "trusted": true
   },
   "outputs": [
    {
     "name": "stdout",
     "output_type": "stream",
     "text": [
      "Loading densenet121...\n",
      "Loading resnet50...\n",
      "Loading resnet101...\n",
      "Loading efficientnet_b0...\n",
      "Loading efficientnet_b4...\n",
      "All models loaded.\n"
     ]
    }
   ],
   "source": [
    "# List of model names and corresponding weight paths\n",
    "model_names = ['densenet121', 'resnet50', 'resnet101', 'efficientnet_b0', 'efficientnet_b4']\n",
    "num_classes = 3\n",
    "model_dir = '/kaggle/working/model_results'\n",
    "\n",
    "# Map model names to their best weights\n",
    "model_weights = {\n",
    "    name: os.path.join(model_dir, name, f'{name}_best.pth') for name in model_names\n",
    "}\n",
    "\n",
    "device = 'cuda' if torch.cuda.is_available() else 'cpu'\n",
    "ensemble_models = []\n",
    "for name in model_names:\n",
    "    print(f\"Loading {name}...\")\n",
    "    model = load_model(name, num_classes, model_weights[name], device=device)\n",
    "    ensemble_models.append(model)\n",
    "print(\"All models loaded.\")"
   ]
  },
  {
   "cell_type": "code",
   "execution_count": 10,
   "metadata": {
    "execution": {
     "iopub.execute_input": "2025-06-20T12:54:49.789213Z",
     "iopub.status.busy": "2025-06-20T12:54:49.788655Z",
     "iopub.status.idle": "2025-06-20T12:54:50.293209Z",
     "shell.execute_reply": "2025-06-20T12:54:50.292675Z",
     "shell.execute_reply.started": "2025-06-20T12:54:49.789191Z"
    },
    "trusted": true
   },
   "outputs": [
    {
     "name": "stdout",
     "output_type": "stream",
     "text": [
      "Classification Report:\n",
      "              precision    recall  f1-score     support\n",
      "Normal         0.987879  0.962598  0.975075   508.00000\n",
      "Pneumonia      0.965675  0.988290  0.976852   427.00000\n",
      "TB             0.988636  0.997135  0.992867   349.00000\n",
      "accuracy       0.980530  0.980530  0.980530     0.98053\n",
      "macro avg      0.980730  0.982674  0.981598  1284.00000\n",
      "weighted avg   0.980701  0.980530  0.980502  1284.00000\n"
     ]
    }
   ],
   "source": [
    "# Evaluate and visualize ensemble using the same function as in chestxray-classification notebook\n",
    "def evaluate_and_plot_model(model, test_loader, trainAcc, trainLoss, valAcc, valLoss, class_names, device='cuda', model_name='model', y_true=None, y_pred=None, y_prob=None, output_dir=None):\n",
    "    if output_dir is None:\n",
    "        output_dir = os.path.join('model_results', model_name)\n",
    "    os.makedirs(output_dir, exist_ok=True)\n",
    "    if y_true is None or y_pred is None or y_prob is None:\n",
    "        # Fallback to model-based inference if not provided\n",
    "        model.eval()\n",
    "        all_preds = []\n",
    "        all_labels = []\n",
    "        all_probs = []\n",
    "        with torch.no_grad():\n",
    "            for X, y in test_loader:\n",
    "                X = X.to(device)\n",
    "                y = y.to(device)\n",
    "                outputs = model(X)\n",
    "                probs = torch.softmax(outputs, dim=1)\n",
    "                preds = torch.argmax(probs, dim=1)\n",
    "                all_preds.append(preds.cpu())\n",
    "                all_labels.append(y.cpu())\n",
    "                all_probs.append(probs.cpu())\n",
    "        y_true = torch.cat(all_labels).numpy()\n",
    "        y_pred = torch.cat(all_preds).numpy()\n",
    "        y_prob = torch.cat(all_probs).numpy()\n",
    "    # Plot 1: Accuracy & Loss (skipped for ensemble)\n",
    "    # Plot 2: Confusion Matrix\n",
    "    cm = confusion_matrix(y_true, y_pred)\n",
    "    plt.figure(figsize=(6,5))\n",
    "    sns.heatmap(cm, annot=True, fmt='d', cmap='Blues', xticklabels=class_names, yticklabels=class_names)\n",
    "    plt.title('Confusion Matrix')\n",
    "    plt.xlabel('Predicted')\n",
    "    plt.ylabel('Actual')\n",
    "    plt.savefig(f'{output_dir}/{model_name}_confusion_matrix.png')\n",
    "    plt.close()\n",
    "    # Print classification report\n",
    "    report = classification_report(y_true, y_pred, target_names=class_names, output_dict=True)\n",
    "    df_report = pd.DataFrame(report).transpose()\n",
    "    df_report.to_csv(f'{output_dir}/{model_name}_classification_report.csv')\n",
    "    print(\"Classification Report:\")\n",
    "    print(df_report)\n",
    "    # Binarize labels for ROC & PR curve\n",
    "    y_true_bin = label_binarize(y_true, classes=list(range(len(class_names))))\n",
    "    # Plot 3: ROC Curve and AUC\n",
    "    plt.figure()\n",
    "    for i in range(len(class_names)):\n",
    "        fpr, tpr, _ = roc_curve(y_true_bin[:, i], y_prob[:, i])\n",
    "        auc_score = roc_auc_score(y_true_bin[:, i], y_prob[:, i])\n",
    "        plt.plot(fpr, tpr, label=f\"{class_names[i]} (AUC = {auc_score:.2f})\")\n",
    "    plt.plot([0,1], [0,1], 'k--')\n",
    "    plt.xlabel(\"False Positive Rate\")\n",
    "    plt.ylabel(\"True Positive Rate\")\n",
    "    plt.title(\"ROC Curve\")\n",
    "    plt.legend()\n",
    "    plt.savefig(f'{output_dir}/{model_name}_roc_curve.png')\n",
    "    plt.close()\n",
    "    # Plot 4: Precision-Recall Curve\n",
    "    plt.figure()\n",
    "    for i in range(len(class_names)):\n",
    "        precision, recall, _ = precision_recall_curve(y_true_bin[:, i], y_prob[:, i])\n",
    "        ap_score = average_precision_score(y_true_bin[:, i], y_prob[:, i])\n",
    "        plt.plot(recall, precision, label=f\"{class_names[i]} (AP = {ap_score:.2f})\")\n",
    "    plt.xlabel(\"Recall\")\n",
    "    plt.ylabel(\"Precision\")\n",
    "    plt.title(\"Precision-Recall Curve\")\n",
    "    plt.legend()\n",
    "    plt.savefig(f'{output_dir}/{model_name}_precision_recall_curve.png')\n",
    "    plt.close()\n",
    "    # Save metrics as JSON\n",
    "    metrics = {\n",
    "        'accuracy': accuracy_score(y_true, y_pred),\n",
    "        'classification_report': report\n",
    "    }\n",
    "    with open(f'{output_dir}/{model_name}_metrics.json', 'w') as f:\n",
    "        json.dump(metrics, f)\n",
    "\n",
    "# Call the function for the ensemble\n",
    "ensemble_dir = os.path.join('model_results', 'ensemble')\n",
    "evaluate_and_plot_model(\n",
    "    model=None,\n",
    "    test_loader=test_loader,\n",
    "    trainAcc=None,\n",
    "    trainLoss=None,\n",
    "    valAcc=None,\n",
    "    valLoss=None,\n",
    "    class_names=test_dataset.classes,\n",
    "    device=device,\n",
    "    model_name='ensemble',\n",
    "    y_true=all_labels,\n",
    "    y_pred=ensemble_preds,\n",
    "    y_prob=ensemble_probs,\n",
    "    output_dir=ensemble_dir\n",
    ")\n"
   ]
  },
  {
   "cell_type": "code",
   "execution_count": 1,
   "metadata": {
    "execution": {
     "iopub.execute_input": "2025-06-21T21:57:18.637501Z",
     "iopub.status.busy": "2025-06-21T21:57:18.636719Z",
     "iopub.status.idle": "2025-06-21T21:57:18.642006Z",
     "shell.execute_reply": "2025-06-21T21:57:18.641399Z",
     "shell.execute_reply.started": "2025-06-21T21:57:18.637471Z"
    },
    "trusted": true
   },
   "outputs": [],
   "source": [
    "import os\n",
    "import json\n",
    "import torch\n",
    "import numpy as np\n",
    "import pandas as pd\n",
    "import matplotlib.pyplot as plt\n",
    "import seaborn as sns\n",
    "from sklearn.metrics import (\n",
    "    confusion_matrix, classification_report,\n",
    "    roc_auc_score, roc_curve, precision_recall_curve,\n",
    "    average_precision_score\n",
    ")\n",
    "from sklearn.preprocessing import label_binarize\n",
    "from torchvision import datasets, transforms\n",
    "from torch.utils.data import DataLoader\n",
    "from PIL import Image\n",
    "from torchvision import models as m\n",
    "import torch.nn as nn\n",
    "from tqdm import tqdm"
   ]
  },
  {
   "cell_type": "code",
   "execution_count": 4,
   "metadata": {
    "execution": {
     "iopub.execute_input": "2025-06-21T21:58:03.587884Z",
     "iopub.status.busy": "2025-06-21T21:58:03.586921Z",
     "iopub.status.idle": "2025-06-21T21:58:03.592266Z",
     "shell.execute_reply": "2025-06-21T21:58:03.591517Z",
     "shell.execute_reply.started": "2025-06-21T21:58:03.587844Z"
    },
    "trusted": true
   },
   "outputs": [],
   "source": [
    "DEVICE = 'cuda' if torch.cuda.is_available() else 'cpu'"
   ]
  },
  {
   "cell_type": "code",
   "execution_count": 5,
   "metadata": {
    "execution": {
     "iopub.execute_input": "2025-06-21T21:58:05.396575Z",
     "iopub.status.busy": "2025-06-21T21:58:05.396278Z",
     "iopub.status.idle": "2025-06-21T21:58:05.400824Z",
     "shell.execute_reply": "2025-06-21T21:58:05.400206Z",
     "shell.execute_reply.started": "2025-06-21T21:58:05.396554Z"
    },
    "trusted": true
   },
   "outputs": [],
   "source": [
    "#path for normal imgs\n",
    "tb_normal_dir = \"/kaggle/input/tuberculosis-tb-chest-xray-dataset/TB_Chest_Radiography_Database/Normal\"\n",
    "\n",
    "## Paths for TB imgs\n",
    "tb_tb_dir = \"/kaggle/input/tuberculosis-tb-chest-xray-dataset/TB_Chest_Radiography_Database/Tuberculosis\"\n",
    "\n",
    "# Paths for Pneumonia imgs\n",
    "pneu_pneumonia_dir = \"/kaggle/input/pneumonia-xray-images/test/opacity\""
   ]
  },
  {
   "cell_type": "code",
   "execution_count": 6,
   "metadata": {
    "execution": {
     "iopub.execute_input": "2025-06-21T21:58:08.485057Z",
     "iopub.status.busy": "2025-06-21T21:58:08.484417Z",
     "iopub.status.idle": "2025-06-21T21:58:08.489717Z",
     "shell.execute_reply": "2025-06-21T21:58:08.488988Z",
     "shell.execute_reply.started": "2025-06-21T21:58:08.485023Z"
    },
    "trusted": true
   },
   "outputs": [],
   "source": [
    "# Destination merged folder\n",
    "merged_dir = \"/kaggle/working/merged_dataset\"\n",
    "os.makedirs(merged_dir, exist_ok=True)\n",
    "\n",
    "# Create class folders\n",
    "for cls in ['Normal', 'Pneumonia', 'TB']:\n",
    "    os.makedirs(os.path.join(merged_dir, cls), exist_ok=True)"
   ]
  },
  {
   "cell_type": "code",
   "execution_count": 7,
   "metadata": {
    "execution": {
     "iopub.execute_input": "2025-06-21T21:58:10.713109Z",
     "iopub.status.busy": "2025-06-21T21:58:10.712573Z",
     "iopub.status.idle": "2025-06-21T21:58:10.717989Z",
     "shell.execute_reply": "2025-06-21T21:58:10.717104Z",
     "shell.execute_reply.started": "2025-06-21T21:58:10.713083Z"
    },
    "trusted": true
   },
   "outputs": [],
   "source": [
    "def copy_images(src_dir, dest_dir, prefix=\"\"):\n",
    "    if not os.path.exists(src_dir):\n",
    "        print(f\"Source directory not found: {src_dir}\")\n",
    "        return\n",
    "    for fname in os.listdir(src_dir):\n",
    "        src_path = os.path.join(src_dir, fname)\n",
    "        if os.path.isfile(src_path):\n",
    "            dst_path = os.path.join(dest_dir, prefix + fname)\n",
    "            shutil.copy2(src_path, dst_path)"
   ]
  },
  {
   "cell_type": "code",
   "execution_count": 8,
   "metadata": {
    "execution": {
     "iopub.execute_input": "2025-06-21T21:58:13.721303Z",
     "iopub.status.busy": "2025-06-21T21:58:13.720701Z",
     "iopub.status.idle": "2025-06-21T21:59:03.212564Z",
     "shell.execute_reply": "2025-06-21T21:59:03.211781Z",
     "shell.execute_reply.started": "2025-06-21T21:58:13.721279Z"
    },
    "trusted": true
   },
   "outputs": [],
   "source": [
    "# Copy Normal images\n",
    "copy_images(tb_normal_dir, os.path.join(merged_dir, \"Normal\"), prefix=\"tb_\")\n",
    "# Copy Pneumonia images\n",
    "copy_images(pneu_pneumonia_dir, os.path.join(merged_dir, \"Pneumonia\"), prefix=\"pneu_\")\n",
    "# Copy TB images\n",
    "copy_images(tb_tb_dir, os.path.join(merged_dir, \"TB\"), prefix=\"tb_\")"
   ]
  },
  {
   "cell_type": "code",
   "execution_count": 9,
   "metadata": {
    "execution": {
     "iopub.execute_input": "2025-06-21T21:59:03.214059Z",
     "iopub.status.busy": "2025-06-21T21:59:03.213767Z",
     "iopub.status.idle": "2025-06-21T21:59:03.221681Z",
     "shell.execute_reply": "2025-06-21T21:59:03.221089Z",
     "shell.execute_reply.started": "2025-06-21T21:59:03.214037Z"
    },
    "trusted": true
   },
   "outputs": [
    {
     "name": "stdout",
     "output_type": "stream",
     "text": [
      "Normal images: 3500\n",
      "Pneumonia images: 390\n",
      "Tb images: 700\n"
     ]
    }
   ],
   "source": [
    "print(f\"Normal images: {len(os.listdir(os.path.join(merged_dir, 'Normal')))}\")\n",
    "print(f\"Pneumonia images: {len(os.listdir(os.path.join(merged_dir, 'Pneumonia')))}\")\n",
    "print(f\"Tb images: {len(os.listdir(os.path.join(merged_dir, 'TB')))}\")"
   ]
  },
  {
   "cell_type": "code",
   "execution_count": 16,
   "metadata": {
    "execution": {
     "iopub.execute_input": "2025-06-21T22:03:31.892662Z",
     "iopub.status.busy": "2025-06-21T22:03:31.892087Z",
     "iopub.status.idle": "2025-06-21T22:03:31.896381Z",
     "shell.execute_reply": "2025-06-21T22:03:31.895508Z",
     "shell.execute_reply.started": "2025-06-21T22:03:31.892637Z"
    },
    "trusted": true
   },
   "outputs": [],
   "source": [
    "# --- CONFIG ---\n",
    "ENSEMBLE_DIR = \"/kaggle/working/model_results/ensemble_unseen\"\n",
    "NEW_DATA_DIR = \"/kaggle/working/merged_dataset\" \n",
    "BATCH_SIZE = 32\n",
    "CLASSES = ['Normal', 'Pneumonia', 'TB']"
   ]
  },
  {
   "cell_type": "code",
   "execution_count": 12,
   "metadata": {
    "execution": {
     "iopub.execute_input": "2025-06-21T21:59:57.506996Z",
     "iopub.status.busy": "2025-06-21T21:59:57.506281Z",
     "iopub.status.idle": "2025-06-21T21:59:57.512224Z",
     "shell.execute_reply": "2025-06-21T21:59:57.511368Z",
     "shell.execute_reply.started": "2025-06-21T21:59:57.506975Z"
    },
    "trusted": true
   },
   "outputs": [],
   "source": [
    "# --- TRANSFORMS ---\n",
    "class ConvertToRGB(object):\n",
    "    def __call__(self, img):\n",
    "        if img.mode != \"RGB\":\n",
    "            img = img.convert(\"RGB\")\n",
    "        return img\n",
    "\n",
    "imagenet_mean = [0.485, 0.456, 0.406]\n",
    "imagenet_std = [0.229, 0.224, 0.225]\n",
    "\n",
    "test_transforms = transforms.Compose([\n",
    "    ConvertToRGB(),\n",
    "    transforms.Resize((224, 224)),\n",
    "    transforms.ToTensor(),\n",
    "    transforms.Normalize(mean=imagenet_mean, std=imagenet_std)\n",
    "])"
   ]
  },
  {
   "cell_type": "code",
   "execution_count": 13,
   "metadata": {
    "execution": {
     "iopub.execute_input": "2025-06-21T22:00:01.195586Z",
     "iopub.status.busy": "2025-06-21T22:00:01.195118Z",
     "iopub.status.idle": "2025-06-21T22:00:01.213401Z",
     "shell.execute_reply": "2025-06-21T22:00:01.212521Z",
     "shell.execute_reply.started": "2025-06-21T22:00:01.195562Z"
    },
    "trusted": true
   },
   "outputs": [],
   "source": [
    "# --- LOAD NEW DATASET ---\n",
    "new_data = datasets.ImageFolder(NEW_DATA_DIR, transform=test_transforms)\n",
    "new_loader = DataLoader(new_data, batch_size=BATCH_SIZE, shuffle=False)"
   ]
  },
  {
   "cell_type": "code",
   "execution_count": 22,
   "metadata": {
    "execution": {
     "iopub.execute_input": "2025-06-21T22:06:25.621143Z",
     "iopub.status.busy": "2025-06-21T22:06:25.620523Z",
     "iopub.status.idle": "2025-06-21T22:06:25.625465Z",
     "shell.execute_reply": "2025-06-21T22:06:25.624698Z",
     "shell.execute_reply.started": "2025-06-21T22:06:25.621123Z"
    },
    "trusted": true
   },
   "outputs": [],
   "source": [
    "# --- LOAD ENSEMBLE MODEL ---\n",
    "def get_custom_classifier(in_features, num_classes=3):\n",
    "    return nn.Sequential(\n",
    "        nn.Linear(in_features, 512),\n",
    "        nn.Dropout(p=0.2),\n",
    "        nn.ReLU(),\n",
    "        nn.Linear(512, 128),\n",
    "        nn.Dropout(p=0.2),\n",
    "        nn.ReLU(),\n",
    "        nn.Linear(128, 32),\n",
    "        nn.Dropout(p=0.2),\n",
    "        nn.ReLU(),\n",
    "        nn.Linear(32, num_classes)\n",
    "    )"
   ]
  },
  {
   "cell_type": "code",
   "execution_count": 23,
   "metadata": {
    "execution": {
     "iopub.execute_input": "2025-06-21T22:06:34.605047Z",
     "iopub.status.busy": "2025-06-21T22:06:34.604265Z",
     "iopub.status.idle": "2025-06-21T22:06:34.609372Z",
     "shell.execute_reply": "2025-06-21T22:06:34.608594Z",
     "shell.execute_reply.started": "2025-06-21T22:06:34.605021Z"
    },
    "trusted": true
   },
   "outputs": [],
   "source": [
    "# --- ENSEMBLE LOADING---\n",
    "def get_in_features(model, classifier_attr):\n",
    "    layer = getattr(model, classifier_attr)\n",
    "    if isinstance(layer, nn.Sequential):\n",
    "        for sublayer in layer:\n",
    "            if isinstance(sublayer, nn.Linear):\n",
    "                return sublayer.in_features\n",
    "        raise ValueError(\"No Linear layer found in Sequential classifier.\")\n",
    "    else:\n",
    "        return layer.in_features"
   ]
  },
  {
   "cell_type": "code",
   "execution_count": 24,
   "metadata": {
    "execution": {
     "iopub.execute_input": "2025-06-21T22:06:35.076283Z",
     "iopub.status.busy": "2025-06-21T22:06:35.075616Z",
     "iopub.status.idle": "2025-06-21T22:06:35.081106Z",
     "shell.execute_reply": "2025-06-21T22:06:35.080293Z",
     "shell.execute_reply.started": "2025-06-21T22:06:35.076257Z"
    },
    "trusted": true
   },
   "outputs": [],
   "source": [
    "ENSEMBLE_MODELS = {\n",
    "    'resnet50': {\n",
    "        'arch': lambda: m.resnet50(weights=None),\n",
    "        'weight_path': '/kaggle/working/model_results/resnet50/resnet50_best.pth',\n",
    "        'classifier_attr': 'fc',\n",
    "    },\n",
    "    'densenet121': {\n",
    "        'arch': lambda: m.densenet121(weights=None),\n",
    "        'weight_path': '/kaggle/working/model_results/densenet121/densenet121_best.pth',\n",
    "        'classifier_attr': 'classifier',\n",
    "    },\n",
    "    'efficientnet_b0': {\n",
    "        'arch': lambda: m.efficientnet_b0(weights=None),\n",
    "        'weight_path': '/kaggle/working/model_results/efficientnet_b0/efficientnet_b0_best.pth',\n",
    "        'classifier_attr': 'classifier',\n",
    "    },\n",
    "    'efficientnet_b4': {\n",
    "        'arch': lambda: m.efficientnet_b4(weights=None),\n",
    "        'weight_path': '/kaggle/working/model_results/efficientnet_b4/efficientnet_b4_best.pth',\n",
    "        'classifier_attr': 'classifier',\n",
    "    },\n",
    "    'resnet101': {\n",
    "        'arch': lambda: m.resnet101(weights=None),\n",
    "        'weight_path': '/kaggle/working/model_results/resnet101/resnet101_best.pth',\n",
    "        'classifier_attr': 'fc',\n",
    "    },\n",
    "}"
   ]
  },
  {
   "cell_type": "code",
   "execution_count": 25,
   "metadata": {
    "execution": {
     "iopub.execute_input": "2025-06-21T22:06:36.872641Z",
     "iopub.status.busy": "2025-06-21T22:06:36.872381Z",
     "iopub.status.idle": "2025-06-21T22:06:36.877652Z",
     "shell.execute_reply": "2025-06-21T22:06:36.877042Z",
     "shell.execute_reply.started": "2025-06-21T22:06:36.872620Z"
    },
    "trusted": true
   },
   "outputs": [],
   "source": [
    "def load_ensemble_models(device=DEVICE, num_classes=len(CLASSES)):\n",
    "    models_list = []\n",
    "    for info in ENSEMBLE_MODELS.values():\n",
    "        model = info['arch']()\n",
    "        in_feats = get_in_features(model, info['classifier_attr'])\n",
    "        setattr(model, info['classifier_attr'], get_custom_classifier(in_feats, num_classes))\n",
    "        model.load_state_dict(torch.load(info['weight_path'], map_location=device))\n",
    "        model.to(device)\n",
    "        model.eval()\n",
    "        models_list.append(model)\n",
    "    return models_list"
   ]
  },
  {
   "cell_type": "code",
   "execution_count": 26,
   "metadata": {
    "execution": {
     "iopub.execute_input": "2025-06-21T22:06:37.435641Z",
     "iopub.status.busy": "2025-06-21T22:06:37.435368Z",
     "iopub.status.idle": "2025-06-21T22:08:36.454714Z",
     "shell.execute_reply": "2025-06-21T22:08:36.454017Z",
     "shell.execute_reply.started": "2025-06-21T22:06:37.435620Z"
    },
    "trusted": true
   },
   "outputs": [
    {
     "name": "stderr",
     "output_type": "stream",
     "text": [
      "Testing: 100%|██████████| 144/144 [01:56<00:00,  1.24it/s]\n"
     ]
    }
   ],
   "source": [
    "# --- INFERENCE ---\n",
    "all_preds = []\n",
    "all_labels = []\n",
    "all_probs = []\n",
    "\n",
    "ensemble_models = load_ensemble_models(device=DEVICE, num_classes=len(CLASSES))\n",
    "\n",
    "with torch.no_grad():\n",
    "    for X, y in tqdm(new_loader, desc='Testing', leave=True):\n",
    "        X = X.to(DEVICE)\n",
    "        y = y.to(DEVICE)\n",
    "        probs_list = []\n",
    "        for model in ensemble_models:\n",
    "            outputs = model(X)\n",
    "            probs = torch.softmax(outputs, dim=1)\n",
    "            probs_list.append(probs)\n",
    "        avg_probs = torch.stack(probs_list).mean(dim=0)\n",
    "        preds = torch.argmax(avg_probs, dim=1)\n",
    "        all_preds.append(preds.cpu())\n",
    "        all_labels.append(y.cpu())\n",
    "        all_probs.append(avg_probs.cpu())\n",
    "\n",
    "y_true = torch.cat(all_labels).numpy()\n",
    "y_pred = torch.cat(all_preds).numpy()\n",
    "y_prob = torch.cat(all_probs).numpy()"
   ]
  },
  {
   "cell_type": "code",
   "execution_count": 27,
   "metadata": {
    "execution": {
     "iopub.execute_input": "2025-06-21T22:08:36.455924Z",
     "iopub.status.busy": "2025-06-21T22:08:36.455688Z",
     "iopub.status.idle": "2025-06-21T22:08:36.459754Z",
     "shell.execute_reply": "2025-06-21T22:08:36.459046Z",
     "shell.execute_reply.started": "2025-06-21T22:08:36.455898Z"
    },
    "trusted": true
   },
   "outputs": [],
   "source": [
    "# --- PLOTS & METRICS ---\n",
    "os.makedirs(ENSEMBLE_DIR, exist_ok=True)"
   ]
  },
  {
   "cell_type": "code",
   "execution_count": 35,
   "metadata": {
    "execution": {
     "iopub.execute_input": "2025-06-21T22:09:29.454696Z",
     "iopub.status.busy": "2025-06-21T22:09:29.454454Z",
     "iopub.status.idle": "2025-06-21T22:09:29.716924Z",
     "shell.execute_reply": "2025-06-21T22:09:29.716069Z",
     "shell.execute_reply.started": "2025-06-21T22:09:29.454680Z"
    },
    "trusted": true
   },
   "outputs": [
    {
     "data": {
      "image/png": "[encoded data removed]",
      "text/plain": [
       "<Figure size 600x500 with 2 Axes>"
      ]
     },
     "metadata": {},
     "output_type": "display_data"
    }
   ],
   "source": [
    "# Confusion Matrix\n",
    "cm = confusion_matrix(y_true, y_pred)\n",
    "plt.figure(figsize=(6,5))\n",
    "sns.heatmap(cm, annot=True, fmt='d', cmap='Blues', xticklabels=CLASSES, yticklabels=CLASSES)\n",
    "plt.title('Confusion Matrix')\n",
    "plt.xlabel('Predicted')\n",
    "plt.ylabel('Actual')\n",
    "plt.savefig(f'{ENSEMBLE_DIR}/ensemble_new_confusion_matrix.png')\n",
    "plt.show()"
   ]
  },
  {
   "cell_type": "code",
   "execution_count": 29,
   "metadata": {
    "execution": {
     "iopub.execute_input": "2025-06-21T22:08:36.803433Z",
     "iopub.status.busy": "2025-06-21T22:08:36.803093Z",
     "iopub.status.idle": "2025-06-21T22:08:36.867177Z",
     "shell.execute_reply": "2025-06-21T22:08:36.866579Z",
     "shell.execute_reply.started": "2025-06-21T22:08:36.803412Z"
    },
    "trusted": true
   },
   "outputs": [
    {
     "name": "stdout",
     "output_type": "stream",
     "text": [
      "Classification Report:\n",
      "              precision    recall  f1-score      support\n",
      "Normal         0.997151  1.000000  0.998573  3500.000000\n",
      "Pneumonia      1.000000  0.992308  0.996139   390.000000\n",
      "TB             1.000000  0.990000  0.994975   700.000000\n",
      "accuracy       0.997821  0.997821  0.997821     0.997821\n",
      "macro avg      0.999050  0.994103  0.996562  4590.000000\n",
      "weighted avg   0.997828  0.997821  0.997818  4590.000000\n"
     ]
    }
   ],
   "source": [
    "# Classification Report\n",
    "report = classification_report(y_true, y_pred, target_names=CLASSES, output_dict=True)\n",
    "df_report = pd.DataFrame(report).transpose()\n",
    "df_report.to_csv(f'{ENSEMBLE_DIR}/ensemble_new_classification_report.csv')\n",
    "print(\"Classification Report:\")\n",
    "print(df_report)"
   ]
  },
  {
   "cell_type": "code",
   "execution_count": 30,
   "metadata": {
    "execution": {
     "iopub.execute_input": "2025-06-21T22:08:36.868581Z",
     "iopub.status.busy": "2025-06-21T22:08:36.868017Z",
     "iopub.status.idle": "2025-06-21T22:08:36.886737Z",
     "shell.execute_reply": "2025-06-21T22:08:36.885935Z",
     "shell.execute_reply.started": "2025-06-21T22:08:36.868554Z"
    },
    "trusted": true
   },
   "outputs": [],
   "source": [
    "# Binarize labels for ROC & PR curve\n",
    "y_true_bin = label_binarize(y_true, classes=list(range(len(CLASSES))))\n",
    "y_true_bin = np.asarray(y_true_bin)"
   ]
  },
  {
   "cell_type": "code",
   "execution_count": 34,
   "metadata": {
    "execution": {
     "iopub.execute_input": "2025-06-21T22:09:13.322718Z",
     "iopub.status.busy": "2025-06-21T22:09:13.321991Z",
     "iopub.status.idle": "2025-06-21T22:09:13.526060Z",
     "shell.execute_reply": "2025-06-21T22:09:13.525482Z",
     "shell.execute_reply.started": "2025-06-21T22:09:13.322692Z"
    },
    "trusted": true
   },
   "outputs": [
    {
     "data": {
      "image/png": "[encoded data removed]",
      "text/plain": [
       "<Figure size 640x480 with 1 Axes>"
      ]
     },
     "metadata": {},
     "output_type": "display_data"
    }
   ],
   "source": [
    "# ROC Curve\n",
    "plt.figure()\n",
    "for i in range(len(CLASSES)):\n",
    "    fpr, tpr, _ = roc_curve(y_true_bin[:, i], y_prob[:, i])\n",
    "    auc_score = roc_auc_score(y_true_bin[:, i], y_prob[:, i])\n",
    "    plt.plot(fpr, tpr, label=f\"{CLASSES[i]} (AUC = {auc_score:.2f})\")\n",
    "plt.plot([0,1], [0,1], 'k--')\n",
    "plt.xlabel(\"False Positive Rate\")\n",
    "plt.ylabel(\"True Positive Rate\")\n",
    "plt.title(\"ROC Curve\")\n",
    "plt.legend()\n",
    "plt.savefig(f'{ENSEMBLE_DIR}/ensemble_new_roc_curve.png')\n",
    "plt.show()"
   ]
  },
  {
   "cell_type": "code",
   "execution_count": 36,
   "metadata": {
    "execution": {
     "iopub.execute_input": "2025-06-21T22:09:48.295469Z",
     "iopub.status.busy": "2025-06-21T22:09:48.295019Z",
     "iopub.status.idle": "2025-06-21T22:09:48.578682Z",
     "shell.execute_reply": "2025-06-21T22:09:48.577945Z",
     "shell.execute_reply.started": "2025-06-21T22:09:48.295443Z"
    },
    "trusted": true
   },
   "outputs": [
    {
     "data": {
      "image/png": "[encoded data removed]",
      "text/plain": [
       "<Figure size 640x480 with 1 Axes>"
      ]
     },
     "metadata": {},
     "output_type": "display_data"
    }
   ],
   "source": [
    "# Precision-Recall Curve\n",
    "plt.figure()\n",
    "for i in range(len(CLASSES)):\n",
    "    precision, recall, _ = precision_recall_curve(y_true_bin[:, i], y_prob[:, i])\n",
    "    ap_score = average_precision_score(y_true_bin[:, i], y_prob[:, i])\n",
    "    plt.plot(recall, precision, label=f\"{CLASSES[i]} (AP = {ap_score:.2f})\")\n",
    "plt.xlabel(\"Recall\")\n",
    "plt.ylabel(\"Precision\")\n",
    "plt.title(\"Precision-Recall Curve\")\n",
    "plt.legend()\n",
    "plt.savefig(f'{ENSEMBLE_DIR}/ensemble_new_precision_recall_curve.png')\n",
    "plt.show()"
   ]
  },
  {
   "cell_type": "code",
   "execution_count": null,
   "metadata": {
    "trusted": true
   },
   "outputs": [],
   "source": []
  }
 ],
 "metadata": {
  "kaggle": {
   "accelerator": "nvidiaTeslaT4",
   "dataSources": [
    {
     "datasetId": 661308,
     "sourceId": 1166777,
     "sourceType": "datasetVersion"
    },
    {
     "datasetId": 891819,
     "sourceId": 2332307,
     "sourceType": "datasetVersion"
    },
    {
     "datasetId": 6570541,
     "sourceId": 10621027,
     "sourceType": "datasetVersion"
    }
   ],
   "dockerImageVersionId": 31040,
   "isGpuEnabled": true,
   "isInternetEnabled": true,
   "language": "python",
   "sourceType": "notebook"
  },
  "kernelspec": {
   "display_name": "Python 3",
   "language": "python",
   "name": "python3"
  },
  "language_info": {
   "codemirror_mode": {
    "name": "ipython",
    "version": 3
   },
   "file_extension": ".py",
   "mimetype": "text/x-python",
   "name": "python",
   "nbconvert_exporter": "python",
   "pygments_lexer": "ipython3",
   "version": "3.11.11"
  }
 },
 "nbformat": 4,
 "nbformat_minor": 4
}
